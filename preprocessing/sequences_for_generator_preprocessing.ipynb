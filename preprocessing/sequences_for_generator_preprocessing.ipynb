{
 "cells": [
  {
   "cell_type": "code",
   "execution_count": 19,
   "id": "bb6690e7",
   "metadata": {},
   "outputs": [],
   "source": [
    "import pandas as pd\n",
    "import numpy as np\n",
    "import matplotlib.pyplot as plt\n",
    "import plotly.express as px\n",
    "import re\n",
    "from sklearn.model_selection import train_test_split"
   ]
  },
  {
   "cell_type": "code",
   "execution_count": 13,
   "id": "1c25a9a4",
   "metadata": {},
   "outputs": [],
   "source": [
    "df = pd.read_csv(r'C:\\Users\\ALI\\itmo-cpp\\input_data\\cpps_for_regression.csv')"
   ]
  },
  {
   "cell_type": "code",
   "execution_count": 14,
   "id": "427247eb",
   "metadata": {},
   "outputs": [],
   "source": [
    "sequences_df = df[['sequence']].copy() # Используем .copy() для избежания SettingWithCopyWarning\n"
   ]
  },
  {
   "cell_type": "code",
   "execution_count": 15,
   "id": "5e3b6791",
   "metadata": {},
   "outputs": [],
   "source": [
    "sequences_df['sequence'] = sequences_df['sequence'].astype(str).str.upper()\n"
   ]
  },
  {
   "cell_type": "code",
   "execution_count": 16,
   "id": "e488e174",
   "metadata": {},
   "outputs": [],
   "source": [
    "allowed_chars = set(\"ACDEFGHIKLMNPQRSTVWYXZBJ\")\n",
    "\n",
    "def is_valid_sequence(seq, allowed_set):\n",
    "    \"\"\"Проверяет, состоит ли последовательность только из разрешенных символов.\"\"\"\n",
    "    if not isinstance(seq, str) or not seq: # Проверка на пустую строку или не строку\n",
    "        return False\n",
    "    return all(char in allowed_set for char in seq)\n",
    "\n",
    "# Применяем фильтрацию\n",
    "sequences_df['is_valid'] = sequences_df['sequence'].apply(lambda x: is_valid_sequence(x, allowed_chars))\n",
    "filtered_sequences_df = sequences_df[sequences_df['is_valid']].copy()\n",
    "filtered_sequences_df = filtered_sequences_df.drop(columns=['is_valid']) # Удаляем вспомогательный столбец"
   ]
  },
  {
   "cell_type": "code",
   "execution_count": 17,
   "id": "b54daa58",
   "metadata": {},
   "outputs": [
    {
     "data": {
      "text/html": [
       "<div>\n",
       "<style scoped>\n",
       "    .dataframe tbody tr th:only-of-type {\n",
       "        vertical-align: middle;\n",
       "    }\n",
       "\n",
       "    .dataframe tbody tr th {\n",
       "        vertical-align: top;\n",
       "    }\n",
       "\n",
       "    .dataframe thead th {\n",
       "        text-align: right;\n",
       "    }\n",
       "</style>\n",
       "<table border=\"1\" class=\"dataframe\">\n",
       "  <thead>\n",
       "    <tr style=\"text-align: right;\">\n",
       "      <th></th>\n",
       "      <th>sequence</th>\n",
       "    </tr>\n",
       "  </thead>\n",
       "  <tbody>\n",
       "    <tr>\n",
       "      <th>22</th>\n",
       "      <td>AAAWFW</td>\n",
       "    </tr>\n",
       "    <tr>\n",
       "      <th>23</th>\n",
       "      <td>AAKFIKKRRTKSS</td>\n",
       "    </tr>\n",
       "    <tr>\n",
       "      <th>24</th>\n",
       "      <td>AAKLLPDLLAAP</td>\n",
       "    </tr>\n",
       "    <tr>\n",
       "      <th>25</th>\n",
       "      <td>AAVACRICMRNFSTRQARRNHRRRHRR</td>\n",
       "    </tr>\n",
       "    <tr>\n",
       "      <th>26</th>\n",
       "      <td>AAVALLPAVLLALLAK</td>\n",
       "    </tr>\n",
       "    <tr>\n",
       "      <th>...</th>\n",
       "      <td>...</td>\n",
       "    </tr>\n",
       "    <tr>\n",
       "      <th>1593</th>\n",
       "      <td>VCVR</td>\n",
       "    </tr>\n",
       "    <tr>\n",
       "      <th>1594</th>\n",
       "      <td>VLCLR</td>\n",
       "    </tr>\n",
       "    <tr>\n",
       "      <th>1595</th>\n",
       "      <td>VPTLK</td>\n",
       "    </tr>\n",
       "    <tr>\n",
       "      <th>1596</th>\n",
       "      <td>VRLPPPVRLPPPVRLPPP</td>\n",
       "    </tr>\n",
       "    <tr>\n",
       "      <th>1597</th>\n",
       "      <td>YKQCHKKGGKKGSG</td>\n",
       "    </tr>\n",
       "  </tbody>\n",
       "</table>\n",
       "<p>1324 rows × 1 columns</p>\n",
       "</div>"
      ],
      "text/plain": [
       "                         sequence\n",
       "22                         AAAWFW\n",
       "23                  AAKFIKKRRTKSS\n",
       "24                   AAKLLPDLLAAP\n",
       "25    AAVACRICMRNFSTRQARRNHRRRHRR\n",
       "26               AAVALLPAVLLALLAK\n",
       "...                           ...\n",
       "1593                         VCVR\n",
       "1594                        VLCLR\n",
       "1595                        VPTLK\n",
       "1596           VRLPPPVRLPPPVRLPPP\n",
       "1597               YKQCHKKGGKKGSG\n",
       "\n",
       "[1324 rows x 1 columns]"
      ]
     },
     "execution_count": 17,
     "metadata": {},
     "output_type": "execute_result"
    }
   ],
   "source": [
    "filtered_sequences_df"
   ]
  },
  {
   "cell_type": "code",
   "execution_count": null,
   "id": "b8992f9b",
   "metadata": {},
   "outputs": [],
   "source": [
    "intermediate_csv_path = 'input_data/cpps_for_generator.csv'\n",
    "filtered_sequences_df.to_csv(intermediate_csv_path, index=False)"
   ]
  },
  {
   "cell_type": "code",
   "execution_count": 20,
   "id": "ef9a909b",
   "metadata": {},
   "outputs": [],
   "source": [
    "train_seqs, val_seqs = train_test_split(filtered_sequences_df['sequence'].tolist(), test_size=0.1, random_state=42)"
   ]
  },
  {
   "cell_type": "code",
   "execution_count": 26,
   "id": "ff4e245a",
   "metadata": {},
   "outputs": [
    {
     "name": "stdout",
     "output_type": "stream",
     "text": [
      "1191\n",
      "133\n"
     ]
    }
   ],
   "source": [
    "print(len(train_seqs))\n",
    "print(len(val_seqs))"
   ]
  },
  {
   "cell_type": "code",
   "execution_count": 21,
   "id": "6499293d",
   "metadata": {},
   "outputs": [],
   "source": [
    "def save_protgpt2_format(seqs, filename):\n",
    "    with open(filename, 'w') as f:\n",
    "        for seq in seqs:\n",
    "            f.write(\"<|endoftext|>\\n\")\n",
    "            # Разбиваем длинные строки на 80 символов, как в FASTA\n",
    "            for i in range(0, len(seq), 80):\n",
    "                f.write(seq[i:i+80] + '\\n')"
   ]
  },
  {
   "cell_type": "code",
   "execution_count": 22,
   "id": "57f7f2d5",
   "metadata": {},
   "outputs": [],
   "source": [
    "# === 7. Сохраняем train и validation ===\n",
    "save_protgpt2_format(train_seqs, \"train.txt\")\n",
    "save_protgpt2_format(val_seqs, \"valid.txt\")"
   ]
  }
 ],
 "metadata": {
  "kernelspec": {
   "display_name": "my_env",
   "language": "python",
   "name": "python3"
  },
  "language_info": {
   "codemirror_mode": {
    "name": "ipython",
    "version": 3
   },
   "file_extension": ".py",
   "mimetype": "text/x-python",
   "name": "python",
   "nbconvert_exporter": "python",
   "pygments_lexer": "ipython3",
   "version": "3.12.3"
  }
 },
 "nbformat": 4,
 "nbformat_minor": 5
}
